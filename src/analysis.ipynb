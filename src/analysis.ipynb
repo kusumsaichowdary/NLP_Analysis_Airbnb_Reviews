{
 "cells": [
  {
   "cell_type": "code",
   "id": "initial_id",
   "metadata": {
    "collapsed": true,
    "ExecuteTime": {
     "end_time": "2024-11-29T01:37:57.375455Z",
     "start_time": "2024-11-29T01:37:56.500439Z"
    }
   },
   "source": "import pandas as pd",
   "outputs": [],
   "execution_count": 1
  },
  {
   "metadata": {
    "ExecuteTime": {
     "end_time": "2024-11-29T01:39:37.543609Z",
     "start_time": "2024-11-29T01:39:37.425522Z"
    }
   },
   "cell_type": "code",
   "source": "df = pd.read_csv('/Users/vishal/PycharmProjects/NLP_FTP/data/NYC_2021_airbnb_reviews_data1.csv')",
   "id": "77b195da021b2d04",
   "outputs": [],
   "execution_count": 9
  },
  {
   "metadata": {
    "ExecuteTime": {
     "end_time": "2024-11-29T01:39:44.907189Z",
     "start_time": "2024-11-29T01:39:44.878667Z"
    }
   },
   "cell_type": "code",
   "source": "df.columns",
   "id": "c9080867e34e75c4",
   "outputs": [
    {
     "data": {
      "text/plain": [
       "Index(['listing_id', 'url', 'review_posted_date', 'review'], dtype='object')"
      ]
     },
     "execution_count": 10,
     "metadata": {},
     "output_type": "execute_result"
    }
   ],
   "execution_count": 10
  },
  {
   "metadata": {
    "ExecuteTime": {
     "end_time": "2024-11-29T01:40:48.239513Z",
     "start_time": "2024-11-29T01:40:48.096460Z"
    }
   },
   "cell_type": "code",
   "source": "df['url'].unique()",
   "id": "81b7c81b89fa4788",
   "outputs": [
    {
     "data": {
      "text/plain": [
       "219"
      ]
     },
     "execution_count": 12,
     "metadata": {},
     "output_type": "execute_result"
    }
   ],
   "execution_count": 12
  },
  {
   "metadata": {
    "ExecuteTime": {
     "end_time": "2024-11-29T01:48:10.430518Z",
     "start_time": "2024-11-29T01:48:10.383281Z"
    }
   },
   "cell_type": "code",
   "source": "df.groupby('url').size()",
   "id": "5f3d323e9041b3bb",
   "outputs": [
    {
     "data": {
      "text/plain": [
       "url\n",
       "https://www.airbnb.com/rooms/100186     110\n",
       "https://www.airbnb.com/rooms/100368      35\n",
       "https://www.airbnb.com/rooms/101053      38\n",
       "https://www.airbnb.com/rooms/1023529    191\n",
       "https://www.airbnb.com/rooms/1025001    152\n",
       "                                       ... \n",
       "https://www.airbnb.com/rooms/95883        6\n",
       "https://www.airbnb.com/rooms/9704        28\n",
       "https://www.airbnb.com/rooms/98663       19\n",
       "https://www.airbnb.com/rooms/99085       25\n",
       "https://www.airbnb.com/rooms/99662       28\n",
       "Length: 219, dtype: int64"
      ]
     },
     "execution_count": 13,
     "metadata": {},
     "output_type": "execute_result"
    }
   ],
   "execution_count": 13
  },
  {
   "metadata": {},
   "cell_type": "code",
   "outputs": [],
   "execution_count": null,
   "source": "",
   "id": "4e8ddeb56a5e32dc"
  }
 ],
 "metadata": {
  "kernelspec": {
   "display_name": "Python 3",
   "language": "python",
   "name": "python3"
  },
  "language_info": {
   "codemirror_mode": {
    "name": "ipython",
    "version": 2
   },
   "file_extension": ".py",
   "mimetype": "text/x-python",
   "name": "python",
   "nbconvert_exporter": "python",
   "pygments_lexer": "ipython2",
   "version": "2.7.6"
  }
 },
 "nbformat": 4,
 "nbformat_minor": 5
}
